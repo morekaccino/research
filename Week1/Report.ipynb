{
 "cells": [
  {
   "cell_type": "markdown",
   "metadata": {
    "collapsed": true,
    "pycharm": {
     "is_executing": false,
     "name": "#%% md\n"
    }
   },
   "source": [
    "Hello professor,<br>\n",
    "As of my duties for this week,<br> I started reading the book (ELECTRIC POWER\n",
    "SYSTEMS) you sent me earlier this week.<br>\n",
    "Regarding MatPower, I'm in the process of familiarizing myself with it.<br>\n",
    "I started learning Tensorflow in hope that it might help later on. Moreover, I'm following some basic courses from kaggle.com on data analysis.\n",
    "\n",
    "I am also available now for a call for any further discussion."
   ]
  }
 ],
 "metadata": {
  "kernelspec": {
   "display_name": "Python 3",
   "language": "python",
   "name": "python3"
  },
  "language_info": {
   "codemirror_mode": {
    "name": "ipython",
    "version": 2
   },
   "file_extension": ".py",
   "mimetype": "text/x-python",
   "name": "python",
   "nbconvert_exporter": "python",
   "pygments_lexer": "ipython2",
   "version": "2.7.6"
  },
  "pycharm": {
   "stem_cell": {
    "cell_type": "raw",
    "source": [],
    "metadata": {
     "collapsed": false
    }
   }
  }
 },
 "nbformat": 4,
 "nbformat_minor": 0
}
